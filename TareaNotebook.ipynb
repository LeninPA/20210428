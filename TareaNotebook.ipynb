{
  "nbformat": 4,
  "nbformat_minor": 0,
  "metadata": {
    "colab": {
      "name": "TareaNotebook.ipynb",
      "provenance": [],
      "collapsed_sections": [],
      "include_colab_link": true
    },
    "kernelspec": {
      "display_name": "Python 3",
      "name": "python3"
    },
    "language_info": {
      "name": "python"
    }
  },
  "cells": [
    {
      "cell_type": "markdown",
      "metadata": {
        "id": "view-in-github",
        "colab_type": "text"
      },
      "source": [
        "<a href=\"https://colab.research.google.com/github/LeninPA/20210428/blob/main/TareaNotebook.ipynb\" target=\"_parent\"><img src=\"https://colab.research.google.com/assets/colab-badge.svg\" alt=\"Open In Colab\"/></a>"
      ]
    },
    {
      "cell_type": "markdown",
      "metadata": {
        "id": "v9rBfeiwxP9k"
      },
      "source": [
        "# Actividad ejemplo de tarea"
      ]
    },
    {
      "cell_type": "markdown",
      "metadata": {
        "id": "HTY0N0VpxeKV"
      },
      "source": [
        "- Crear una función para sumar dos valores numéricos, en caso de que uno de los sumandos no sea un número debe de enviar un error \n",
        "\n",
        "```\n",
        "ValueError('Uno de los valores no es numérico.')\n",
        "```"
      ]
    },
    {
      "cell_type": "code",
      "metadata": {
        "id": "lA8fpjz8xoF3"
      },
      "source": [
        "# ex6003 NO MODIFICAR\n",
        "from numbers import Number\n",
        "def suma(a, b):\n",
        "  if not isinstance(a,Number) or not isinstance(b,Number):\n",
        "    raise ValueError('Uno de los valores no es numérico.')\n",
        "  return a + b"
      ],
      "execution_count": null,
      "outputs": []
    },
    {
      "cell_type": "code",
      "metadata": {
        "id": "XPZmLxS5J-Qb"
      },
      "source": [
        ""
      ],
      "execution_count": null,
      "outputs": []
    },
    {
      "cell_type": "markdown",
      "metadata": {
        "id": "uzreBvH8yL9H"
      },
      "source": [
        "- Crea una función que regrese la frase\n",
        "\n",
        "```\n",
        "Hola nombre.\n",
        "```\n",
        "\n",
        "donde nombre es el parámetro de la función. En caso de que no se propocione un nombre se debe de regresar la frase\n",
        "\n",
        "```\n",
        "Hola extraño.\n",
        "```\n",
        "\n",
        "Ejemplos\n",
        "\n",
        "| Nombre | Frase |\n",
        "|--------|-------|\n",
        "| Juan | Hola Juan. |\n",
        "| Alexis | Hola Alexis. |\n",
        "| | Hola extraño. |\n",
        "| Paola | Hola Paola. |\n"
      ]
    },
    {
      "cell_type": "code",
      "metadata": {
        "id": "2ncnt4_KySuB"
      },
      "source": [
        "# ex6003 NO MODIFICAR\n",
        "def saludo(nombre=\"extraño\"):\n",
        "    return \"Hola \" + str(nombre) + \".\""
      ],
      "execution_count": null,
      "outputs": []
    },
    {
      "cell_type": "code",
      "metadata": {
        "id": "lXZARS2Vy0gV"
      },
      "source": [
        ""
      ],
      "execution_count": null,
      "outputs": []
    },
    {
      "cell_type": "markdown",
      "metadata": {
        "id": "nVZ1fnkHakHW"
      },
      "source": [
        "- Después de correr un experimento de clasificación de imagenes arroja el nombre de las fotos clasificadas y la probabilidad de detectar un objeto concatenadas en el nombre del archivo, \n",
        "\n",
        "```\n",
        "019-113ba476-edc2-4f59-bcab-218b0047143b.jpg\n",
        "```\n",
        "\n",
        "Los tres primeros dígitos corresponden a la probabilidad de detección en la que va desde 000 hasta 100, que corresponden a la probabilida de 0 y 1. \n",
        "\n",
        "Escribir una función que regrese la probabilidad de detección ebtre 0 y 1 dado el nombre de una fotografía. \n",
        "\n",
        "**Punto extra**: Considerar posibles errores en los valores de probabilidad y que emita un `ValueError`. "
      ]
    },
    {
      "cell_type": "code",
      "metadata": {
        "id": "FQ3wnuE1cfn3"
      },
      "source": [
        "# ex6003 NO MODIFICAR\n",
        "def obten_probabilidad(img_name):\n",
        "    prob = int(img_name.split('-',1)[0])/100\n",
        "    if prob > 1.0 or prob < 0.0:\n",
        "      raise ValueError\n",
        "    if prob == 0.0:\n",
        "      return 0\n",
        "    elif prob == 1.0:\n",
        "      return 1\n",
        "    return prob"
      ],
      "execution_count": 9,
      "outputs": []
    },
    {
      "cell_type": "code",
      "metadata": {
        "id": "VdfpQ2QocorR",
        "colab": {
          "base_uri": "https://localhost:8080/",
          "height": 283
        },
        "outputId": "9160e7aa-52cc-47c1-f129-affb20b027f4"
      },
      "source": [
        "obten_probabilidad('500-06cd4b23-ad63-460d-b4cd-4211f8b5c564')"
      ],
      "execution_count": 10,
      "outputs": [
        {
          "output_type": "error",
          "ename": "ValueError",
          "evalue": "ignored",
          "traceback": [
            "\u001b[0;31m---------------------------------------------------------------------------\u001b[0m",
            "\u001b[0;31mValueError\u001b[0m                                Traceback (most recent call last)",
            "\u001b[0;32m<ipython-input-10-c37afb45d6d7>\u001b[0m in \u001b[0;36m<module>\u001b[0;34m()\u001b[0m\n\u001b[0;32m----> 1\u001b[0;31m \u001b[0mobten_probabilidad\u001b[0m\u001b[0;34m(\u001b[0m\u001b[0;34m'500-06cd4b23-ad63-460d-b4cd-4211f8b5c564'\u001b[0m\u001b[0;34m)\u001b[0m\u001b[0;34m\u001b[0m\u001b[0;34m\u001b[0m\u001b[0m\n\u001b[0m",
            "\u001b[0;32m<ipython-input-9-d1978b429944>\u001b[0m in \u001b[0;36mobten_probabilidad\u001b[0;34m(img_name)\u001b[0m\n\u001b[1;32m      3\u001b[0m     \u001b[0mprob\u001b[0m \u001b[0;34m=\u001b[0m \u001b[0mint\u001b[0m\u001b[0;34m(\u001b[0m\u001b[0mimg_name\u001b[0m\u001b[0;34m.\u001b[0m\u001b[0msplit\u001b[0m\u001b[0;34m(\u001b[0m\u001b[0;34m'-'\u001b[0m\u001b[0;34m,\u001b[0m\u001b[0;36m1\u001b[0m\u001b[0;34m)\u001b[0m\u001b[0;34m[\u001b[0m\u001b[0;36m0\u001b[0m\u001b[0;34m]\u001b[0m\u001b[0;34m)\u001b[0m\u001b[0;34m/\u001b[0m\u001b[0;36m100\u001b[0m\u001b[0;34m\u001b[0m\u001b[0;34m\u001b[0m\u001b[0m\n\u001b[1;32m      4\u001b[0m     \u001b[0;32mif\u001b[0m \u001b[0mprob\u001b[0m \u001b[0;34m>\u001b[0m \u001b[0;36m1.0\u001b[0m \u001b[0;32mor\u001b[0m \u001b[0mprob\u001b[0m \u001b[0;34m<\u001b[0m \u001b[0;36m0.0\u001b[0m\u001b[0;34m:\u001b[0m\u001b[0;34m\u001b[0m\u001b[0;34m\u001b[0m\u001b[0m\n\u001b[0;32m----> 5\u001b[0;31m       \u001b[0;32mraise\u001b[0m \u001b[0mValueError\u001b[0m\u001b[0;34m\u001b[0m\u001b[0;34m\u001b[0m\u001b[0m\n\u001b[0m\u001b[1;32m      6\u001b[0m     \u001b[0;32mif\u001b[0m \u001b[0mprob\u001b[0m \u001b[0;34m==\u001b[0m \u001b[0;36m0.0\u001b[0m\u001b[0;34m:\u001b[0m\u001b[0;34m\u001b[0m\u001b[0;34m\u001b[0m\u001b[0m\n\u001b[1;32m      7\u001b[0m       \u001b[0;32mreturn\u001b[0m \u001b[0;36m0\u001b[0m\u001b[0;34m\u001b[0m\u001b[0;34m\u001b[0m\u001b[0m\n",
            "\u001b[0;31mValueError\u001b[0m: "
          ]
        }
      ]
    }
  ]
}